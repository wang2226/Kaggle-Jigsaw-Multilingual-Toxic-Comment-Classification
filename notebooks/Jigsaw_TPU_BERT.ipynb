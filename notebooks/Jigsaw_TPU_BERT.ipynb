{
  "nbformat": 4,
  "nbformat_minor": 0,
  "metadata": {
    "colab": {
      "name": "Jigsaw_TPU_BERT.ipynb",
      "provenance": [],
      "collapsed_sections": []
    },
    "kernelspec": {
      "name": "python3",
      "display_name": "Python 3"
    },
    "accelerator": "TPU"
  },
  "cells": [
    {
      "cell_type": "markdown",
      "metadata": {
        "id": "3rMtEVAIXsfw",
        "colab_type": "text"
      },
      "source": [
        "# Install torch_xla: enabling PyTorch on Google TPU"
      ]
    },
    {
      "cell_type": "code",
      "metadata": {
        "id": "W6Jq3q2lXvtA",
        "colab_type": "code",
        "outputId": "056f413c-e742-452d-ed36-e41e9142f3bd",
        "colab": {
          "base_uri": "https://localhost:8080/",
          "height": 935
        }
      },
      "source": [
        "import os\n",
        "assert os.environ['COLAB_TPU_ADDR'], 'Make sure to select TPU from Edit > Notebook settings > Hardware accelerator'\n",
        " \n",
        " \n",
        "def install_stable():\n",
        " VERSION = \"20200516\"  #@param [\"1.5\" , \"20200516\", \"nightly\"]\n",
        " !curl https://raw.githubusercontent.com/pytorch/xla/master/contrib/scripts/env-setup.py -o pytorch-xla-env-setup.py\n",
        " !python pytorch-xla-env-setup.py --version $VERSION\n",
        "\n",
        "\n",
        "install_stable()\n",
        "\n",
        "import torch \n",
        "print(torch.__version__)"
      ],
      "execution_count": 1,
      "outputs": [
        {
          "output_type": "stream",
          "text": [
            "  % Total    % Received % Xferd  Average Speed   Time    Time     Time  Current\n",
            "                                 Dload  Upload   Total   Spent    Left  Speed\n",
            "\r  0     0    0     0    0     0      0      0 --:--:-- --:--:-- --:--:--     0\r100  4264  100  4264    0     0  23558      0 --:--:-- --:--:-- --:--:-- 23558\n",
            "Updating TPU and VM. This may take around 2 minutes.\n",
            "Updating TPU runtime to pytorch-dev20200516 ...\n",
            "Uninstalling torch-1.5.0+cu101:\n",
            "Done updating TPU runtime: <Response [200]>\n",
            "  Successfully uninstalled torch-1.5.0+cu101\n",
            "Uninstalling torchvision-0.6.0+cu101:\n",
            "  Successfully uninstalled torchvision-0.6.0+cu101\n",
            "Copying gs://tpu-pytorch/wheels/torch-nightly+20200516-cp36-cp36m-linux_x86_64.whl...\n",
            "- [1 files][ 91.0 MiB/ 91.0 MiB]                                                \n",
            "Operation completed over 1 objects/91.0 MiB.                                     \n",
            "Copying gs://tpu-pytorch/wheels/torch_xla-nightly+20200516-cp36-cp36m-linux_x86_64.whl...\n",
            "\\ [1 files][119.8 MiB/119.8 MiB]                                                \n",
            "Operation completed over 1 objects/119.8 MiB.                                    \n",
            "Copying gs://tpu-pytorch/wheels/torchvision-nightly+20200516-cp36-cp36m-linux_x86_64.whl...\n",
            "/ [1 files][  2.3 MiB/  2.3 MiB]                                                \n",
            "Operation completed over 1 objects/2.3 MiB.                                      \n",
            "Processing ./torch-nightly+20200516-cp36-cp36m-linux_x86_64.whl\n",
            "Requirement already satisfied: numpy in /usr/local/lib/python3.6/dist-packages (from torch==nightly+20200516) (1.18.5)\n",
            "Requirement already satisfied: future in /usr/local/lib/python3.6/dist-packages (from torch==nightly+20200516) (0.16.0)\n",
            "\u001b[31mERROR: fastai 1.0.61 requires torchvision, which is not installed.\u001b[0m\n",
            "Installing collected packages: torch\n",
            "Successfully installed torch-1.6.0a0+83df3be\n",
            "Processing ./torch_xla-nightly+20200516-cp36-cp36m-linux_x86_64.whl\n",
            "Installing collected packages: torch-xla\n",
            "Successfully installed torch-xla-1.6+2191422\n",
            "Processing ./torchvision-nightly+20200516-cp36-cp36m-linux_x86_64.whl\n",
            "Requirement already satisfied: pillow>=4.1.1 in /usr/local/lib/python3.6/dist-packages (from torchvision==nightly+20200516) (7.0.0)\n",
            "Requirement already satisfied: torch in /usr/local/lib/python3.6/dist-packages (from torchvision==nightly+20200516) (1.6.0a0+83df3be)\n",
            "Requirement already satisfied: numpy in /usr/local/lib/python3.6/dist-packages (from torchvision==nightly+20200516) (1.18.5)\n",
            "Requirement already satisfied: future in /usr/local/lib/python3.6/dist-packages (from torch->torchvision==nightly+20200516) (0.16.0)\n",
            "Installing collected packages: torchvision\n",
            "Successfully installed torchvision-0.7.0a0+348dd5a\n",
            "Reading package lists... Done\n",
            "Building dependency tree       \n",
            "Reading state information... Done\n",
            "The following NEW packages will be installed:\n",
            "  libomp5\n",
            "0 upgraded, 1 newly installed, 0 to remove and 32 not upgraded.\n",
            "Need to get 234 kB of archives.\n",
            "After this operation, 774 kB of additional disk space will be used.\n",
            "Get:1 http://archive.ubuntu.com/ubuntu bionic/universe amd64 libomp5 amd64 5.0.1-1 [234 kB]\n",
            "Fetched 234 kB in 1s (383 kB/s)\n",
            "Selecting previously unselected package libomp5:amd64.\n",
            "(Reading database ... 144467 files and directories currently installed.)\n",
            "Preparing to unpack .../libomp5_5.0.1-1_amd64.deb ...\n",
            "Unpacking libomp5:amd64 (5.0.1-1) ...\n",
            "Setting up libomp5:amd64 (5.0.1-1) ...\n",
            "Processing triggers for libc-bin (2.27-3ubuntu1) ...\n",
            "/sbin/ldconfig.real: /usr/local/lib/python3.6/dist-packages/ideep4py/lib/libmkldnn.so.0 is not a symbolic link\n",
            "\n",
            "1.6.0a0+83df3be\n"
          ],
          "name": "stdout"
        }
      ]
    },
    {
      "cell_type": "markdown",
      "metadata": {
        "id": "5-ubRC8Ahuoq",
        "colab_type": "text"
      },
      "source": [
        "# Set up"
      ]
    },
    {
      "cell_type": "markdown",
      "metadata": {
        "id": "X26PHc-TSpRP",
        "colab_type": "text"
      },
      "source": [
        "Link Google Drive"
      ]
    },
    {
      "cell_type": "code",
      "metadata": {
        "id": "TFHhdmzMR4Qn",
        "colab_type": "code",
        "outputId": "d4630184-affc-4cc7-8cd5-1803c7709643",
        "colab": {
          "base_uri": "https://localhost:8080/",
          "height": 122
        }
      },
      "source": [
        "from google.colab import drive\n",
        "drive.mount('/content/gdrive')"
      ],
      "execution_count": 2,
      "outputs": [
        {
          "output_type": "stream",
          "text": [
            "Go to this URL in a browser: https://accounts.google.com/o/oauth2/auth?client_id=947318989803-6bn6qk8qdgf4n4g3pfee6491hc0brc4i.apps.googleusercontent.com&redirect_uri=urn%3aietf%3awg%3aoauth%3a2.0%3aoob&response_type=code&scope=email%20https%3a%2f%2fwww.googleapis.com%2fauth%2fdocs.test%20https%3a%2f%2fwww.googleapis.com%2fauth%2fdrive%20https%3a%2f%2fwww.googleapis.com%2fauth%2fdrive.photos.readonly%20https%3a%2f%2fwww.googleapis.com%2fauth%2fpeopleapi.readonly\n",
            "\n",
            "Enter your authorization code:\n",
            "··········\n",
            "Mounted at /content/gdrive\n"
          ],
          "name": "stdout"
        }
      ]
    },
    {
      "cell_type": "markdown",
      "metadata": {
        "id": "fht63M_b3HPB",
        "colab_type": "text"
      },
      "source": [
        "Install transformers from huggingface"
      ]
    },
    {
      "cell_type": "code",
      "metadata": {
        "id": "56fWXC8fdHRH",
        "colab_type": "code",
        "outputId": "be55e58a-33da-434d-c442-08f320d5b903",
        "colab": {
          "base_uri": "https://localhost:8080/",
          "height": 615
        }
      },
      "source": [
        "!pip install transformers"
      ],
      "execution_count": 3,
      "outputs": [
        {
          "output_type": "stream",
          "text": [
            "Collecting transformers\n",
            "\u001b[?25l  Downloading https://files.pythonhosted.org/packages/48/35/ad2c5b1b8f99feaaf9d7cdadaeef261f098c6e1a6a2935d4d07662a6b780/transformers-2.11.0-py3-none-any.whl (674kB)\n",
            "\r\u001b[K     |▌                               | 10kB 18.6MB/s eta 0:00:01\r\u001b[K     |█                               | 20kB 2.2MB/s eta 0:00:01\r\u001b[K     |█▌                              | 30kB 2.7MB/s eta 0:00:01\r\u001b[K     |██                              | 40kB 3.0MB/s eta 0:00:01\r\u001b[K     |██▍                             | 51kB 2.6MB/s eta 0:00:01\r\u001b[K     |███                             | 61kB 2.8MB/s eta 0:00:01\r\u001b[K     |███▍                            | 71kB 3.1MB/s eta 0:00:01\r\u001b[K     |███▉                            | 81kB 3.4MB/s eta 0:00:01\r\u001b[K     |████▍                           | 92kB 3.6MB/s eta 0:00:01\r\u001b[K     |████▉                           | 102kB 3.5MB/s eta 0:00:01\r\u001b[K     |█████▍                          | 112kB 3.5MB/s eta 0:00:01\r\u001b[K     |█████▉                          | 122kB 3.5MB/s eta 0:00:01\r\u001b[K     |██████▎                         | 133kB 3.5MB/s eta 0:00:01\r\u001b[K     |██████▉                         | 143kB 3.5MB/s eta 0:00:01\r\u001b[K     |███████▎                        | 153kB 3.5MB/s eta 0:00:01\r\u001b[K     |███████▊                        | 163kB 3.5MB/s eta 0:00:01\r\u001b[K     |████████▎                       | 174kB 3.5MB/s eta 0:00:01\r\u001b[K     |████████▊                       | 184kB 3.5MB/s eta 0:00:01\r\u001b[K     |█████████▎                      | 194kB 3.5MB/s eta 0:00:01\r\u001b[K     |█████████▊                      | 204kB 3.5MB/s eta 0:00:01\r\u001b[K     |██████████▏                     | 215kB 3.5MB/s eta 0:00:01\r\u001b[K     |██████████▊                     | 225kB 3.5MB/s eta 0:00:01\r\u001b[K     |███████████▏                    | 235kB 3.5MB/s eta 0:00:01\r\u001b[K     |███████████▋                    | 245kB 3.5MB/s eta 0:00:01\r\u001b[K     |████████████▏                   | 256kB 3.5MB/s eta 0:00:01\r\u001b[K     |████████████▋                   | 266kB 3.5MB/s eta 0:00:01\r\u001b[K     |█████████████                   | 276kB 3.5MB/s eta 0:00:01\r\u001b[K     |█████████████▋                  | 286kB 3.5MB/s eta 0:00:01\r\u001b[K     |██████████████                  | 296kB 3.5MB/s eta 0:00:01\r\u001b[K     |██████████████▋                 | 307kB 3.5MB/s eta 0:00:01\r\u001b[K     |███████████████                 | 317kB 3.5MB/s eta 0:00:01\r\u001b[K     |███████████████▌                | 327kB 3.5MB/s eta 0:00:01\r\u001b[K     |████████████████                | 337kB 3.5MB/s eta 0:00:01\r\u001b[K     |████████████████▌               | 348kB 3.5MB/s eta 0:00:01\r\u001b[K     |█████████████████               | 358kB 3.5MB/s eta 0:00:01\r\u001b[K     |█████████████████▌              | 368kB 3.5MB/s eta 0:00:01\r\u001b[K     |██████████████████              | 378kB 3.5MB/s eta 0:00:01\r\u001b[K     |██████████████████▌             | 389kB 3.5MB/s eta 0:00:01\r\u001b[K     |███████████████████             | 399kB 3.5MB/s eta 0:00:01\r\u001b[K     |███████████████████▍            | 409kB 3.5MB/s eta 0:00:01\r\u001b[K     |████████████████████            | 419kB 3.5MB/s eta 0:00:01\r\u001b[K     |████████████████████▍           | 430kB 3.5MB/s eta 0:00:01\r\u001b[K     |████████████████████▉           | 440kB 3.5MB/s eta 0:00:01\r\u001b[K     |█████████████████████▍          | 450kB 3.5MB/s eta 0:00:01\r\u001b[K     |█████████████████████▉          | 460kB 3.5MB/s eta 0:00:01\r\u001b[K     |██████████████████████▍         | 471kB 3.5MB/s eta 0:00:01\r\u001b[K     |██████████████████████▉         | 481kB 3.5MB/s eta 0:00:01\r\u001b[K     |███████████████████████▎        | 491kB 3.5MB/s eta 0:00:01\r\u001b[K     |███████████████████████▉        | 501kB 3.5MB/s eta 0:00:01\r\u001b[K     |████████████████████████▎       | 512kB 3.5MB/s eta 0:00:01\r\u001b[K     |████████████████████████▊       | 522kB 3.5MB/s eta 0:00:01\r\u001b[K     |█████████████████████████▎      | 532kB 3.5MB/s eta 0:00:01\r\u001b[K     |█████████████████████████▊      | 542kB 3.5MB/s eta 0:00:01\r\u001b[K     |██████████████████████████▏     | 552kB 3.5MB/s eta 0:00:01\r\u001b[K     |██████████████████████████▊     | 563kB 3.5MB/s eta 0:00:01\r\u001b[K     |███████████████████████████▏    | 573kB 3.5MB/s eta 0:00:01\r\u001b[K     |███████████████████████████▊    | 583kB 3.5MB/s eta 0:00:01\r\u001b[K     |████████████████████████████▏   | 593kB 3.5MB/s eta 0:00:01\r\u001b[K     |████████████████████████████▋   | 604kB 3.5MB/s eta 0:00:01\r\u001b[K     |█████████████████████████████▏  | 614kB 3.5MB/s eta 0:00:01\r\u001b[K     |█████████████████████████████▋  | 624kB 3.5MB/s eta 0:00:01\r\u001b[K     |██████████████████████████████  | 634kB 3.5MB/s eta 0:00:01\r\u001b[K     |██████████████████████████████▋ | 645kB 3.5MB/s eta 0:00:01\r\u001b[K     |███████████████████████████████ | 655kB 3.5MB/s eta 0:00:01\r\u001b[K     |███████████████████████████████▋| 665kB 3.5MB/s eta 0:00:01\r\u001b[K     |████████████████████████████████| 675kB 3.5MB/s \n",
            "\u001b[?25hRequirement already satisfied: numpy in /usr/local/lib/python3.6/dist-packages (from transformers) (1.18.5)\n",
            "Collecting sentencepiece\n",
            "\u001b[?25l  Downloading https://files.pythonhosted.org/packages/d4/a4/d0a884c4300004a78cca907a6ff9a5e9fe4f090f5d95ab341c53d28cbc58/sentencepiece-0.1.91-cp36-cp36m-manylinux1_x86_64.whl (1.1MB)\n",
            "\u001b[K     |████████████████████████████████| 1.1MB 15.2MB/s \n",
            "\u001b[?25hRequirement already satisfied: requests in /usr/local/lib/python3.6/dist-packages (from transformers) (2.23.0)\n",
            "Requirement already satisfied: dataclasses; python_version < \"3.7\" in /usr/local/lib/python3.6/dist-packages (from transformers) (0.7)\n",
            "Collecting tokenizers==0.7.0\n",
            "\u001b[?25l  Downloading https://files.pythonhosted.org/packages/14/e5/a26eb4716523808bb0a799fcfdceb6ebf77a18169d9591b2f46a9adb87d9/tokenizers-0.7.0-cp36-cp36m-manylinux1_x86_64.whl (3.8MB)\n",
            "\u001b[K     |████████████████████████████████| 3.8MB 24.7MB/s \n",
            "\u001b[?25hRequirement already satisfied: regex!=2019.12.17 in /usr/local/lib/python3.6/dist-packages (from transformers) (2019.12.20)\n",
            "Requirement already satisfied: tqdm>=4.27 in /usr/local/lib/python3.6/dist-packages (from transformers) (4.41.1)\n",
            "Collecting sacremoses\n",
            "\u001b[?25l  Downloading https://files.pythonhosted.org/packages/7d/34/09d19aff26edcc8eb2a01bed8e98f13a1537005d31e95233fd48216eed10/sacremoses-0.0.43.tar.gz (883kB)\n",
            "\u001b[K     |████████████████████████████████| 890kB 39.2MB/s \n",
            "\u001b[?25hRequirement already satisfied: packaging in /usr/local/lib/python3.6/dist-packages (from transformers) (20.4)\n",
            "Requirement already satisfied: filelock in /usr/local/lib/python3.6/dist-packages (from transformers) (3.0.12)\n",
            "Requirement already satisfied: chardet<4,>=3.0.2 in /usr/local/lib/python3.6/dist-packages (from requests->transformers) (3.0.4)\n",
            "Requirement already satisfied: idna<3,>=2.5 in /usr/local/lib/python3.6/dist-packages (from requests->transformers) (2.9)\n",
            "Requirement already satisfied: urllib3!=1.25.0,!=1.25.1,<1.26,>=1.21.1 in /usr/local/lib/python3.6/dist-packages (from requests->transformers) (1.24.3)\n",
            "Requirement already satisfied: certifi>=2017.4.17 in /usr/local/lib/python3.6/dist-packages (from requests->transformers) (2020.4.5.1)\n",
            "Requirement already satisfied: six in /usr/local/lib/python3.6/dist-packages (from sacremoses->transformers) (1.12.0)\n",
            "Requirement already satisfied: click in /usr/local/lib/python3.6/dist-packages (from sacremoses->transformers) (7.1.2)\n",
            "Requirement already satisfied: joblib in /usr/local/lib/python3.6/dist-packages (from sacremoses->transformers) (0.15.1)\n",
            "Requirement already satisfied: pyparsing>=2.0.2 in /usr/local/lib/python3.6/dist-packages (from packaging->transformers) (2.4.7)\n",
            "Building wheels for collected packages: sacremoses\n",
            "  Building wheel for sacremoses (setup.py) ... \u001b[?25l\u001b[?25hdone\n",
            "  Created wheel for sacremoses: filename=sacremoses-0.0.43-cp36-none-any.whl size=893260 sha256=6f841d6f876cd0620b1e6c936dbf275b69a7a6843d5b97928cef08c29cd1b0bd\n",
            "  Stored in directory: /root/.cache/pip/wheels/29/3c/fd/7ce5c3f0666dab31a50123635e6fb5e19ceb42ce38d4e58f45\n",
            "Successfully built sacremoses\n",
            "Installing collected packages: sentencepiece, tokenizers, sacremoses, transformers\n",
            "Successfully installed sacremoses-0.0.43 sentencepiece-0.1.91 tokenizers-0.7.0 transformers-2.11.0\n"
          ],
          "name": "stdout"
        }
      ]
    },
    {
      "cell_type": "markdown",
      "metadata": {
        "id": "-xlbk49mXT_2",
        "colab_type": "text"
      },
      "source": [
        "# config.py"
      ]
    },
    {
      "cell_type": "code",
      "metadata": {
        "id": "MsdDYeWbXO-2",
        "colab_type": "code",
        "colab": {}
      },
      "source": [
        "import os\n",
        "\n",
        "import matplotlib\n",
        "import matplotlib.pyplot as plt\n",
        "\n",
        "import time\n",
        "\n",
        "import torch\n",
        "import transformers\n",
        "import warnings\n",
        "\n",
        "import pandas as pd\n",
        "import numpy as np\n",
        "import torch.nn as nn\n",
        "\n",
        "from sklearn import metrics\n",
        "from transformers import AdamW\n",
        "from transformers import get_linear_schedule_with_warmup\n",
        "\n",
        "import torch_xla.core.xla_model as xm\n",
        "import torch_xla.distributed.parallel_loader as pl\n",
        "import torch_xla.distributed.xla_multiprocessing as xmp\n",
        "\n",
        "warnings.filterwarnings(\"ignore\")\n",
        "\n",
        "class config:\n",
        "    MAX_LEN = 192\n",
        "    TRAIN_BATCH_SIZE = 64\n",
        "    VALID_BATCH_SIZE = 8\n",
        "    EPOCHS = 1\n",
        "    LEARNING_RATE = 1e-6\n",
        "    BERT_PATH = \"/content/gdrive/My Drive/bert-base-multilingual-uncased/\"\n",
        "    MODEL_PATH = \"/content/gdrive/My Drive/bert_model.bin\"\n",
        "    TOKENIZER = transformers.BertTokenizer.from_pretrained(\n",
        "        BERT_PATH,\n",
        "        do_lower_case=True\n",
        "    )\n",
        "    JIGSAW_DATA_PATH = \"/content/gdrive/My Drive/\"\n",
        "    TRAINING_FILE_1 = os.path.join(\n",
        "        JIGSAW_DATA_PATH, \n",
        "        \"jigsaw-toxic-comment-train.csv\"\n",
        "    )\n",
        "    TRAINING_FILE_2 = os.path.join(\n",
        "        JIGSAW_DATA_PATH, \n",
        "        \"jigsaw-unintended-bias-train.csv\"\n",
        "    )\n",
        "    VALIDATION_FILE = os.path.join(\n",
        "        JIGSAW_DATA_PATH, \n",
        "        \"validation.csv\"\n",
        "    )"
      ],
      "execution_count": 0,
      "outputs": []
    },
    {
      "cell_type": "markdown",
      "metadata": {
        "id": "IslfGoq_h4zA",
        "colab_type": "text"
      },
      "source": [
        "# dataset.py"
      ]
    },
    {
      "cell_type": "code",
      "metadata": {
        "id": "YTtjN0F7ZCDt",
        "colab_type": "code",
        "colab": {}
      },
      "source": [
        "class JigsawTraining:\n",
        "    def __init__(self, comment_text, targets, config):\n",
        "        self.comment_text = comment_text\n",
        "        self.tokenizer = config.TOKENIZER\n",
        "        self.max_length = config.MAX_LEN\n",
        "        self.targets = targets\n",
        "\n",
        "    def __len__(self):\n",
        "        return len(self.comment_text)\n",
        "\n",
        "    def __getitem__(self, item):\n",
        "        comment_text = str(self.comment_text[item])\n",
        "        comment_text = \" \".join(comment_text.split())\n",
        "\n",
        "        inputs = self.tokenizer.encode_plus(\n",
        "            comment_text,\n",
        "            None,\n",
        "            add_special_tokens=True,\n",
        "            max_length=self.max_length,\n",
        "        )\n",
        "        ids = inputs[\"input_ids\"]\n",
        "        token_type_ids = inputs[\"token_type_ids\"]\n",
        "        mask = inputs[\"attention_mask\"]\n",
        "        \n",
        "        padding_length = self.max_length - len(ids)\n",
        "        \n",
        "        ids = ids + ([0] * padding_length)\n",
        "        mask = mask + ([0] * padding_length)\n",
        "        token_type_ids = token_type_ids + ([0] * padding_length)\n",
        "        \n",
        "        return {\n",
        "            'ids': torch.tensor(ids, dtype=torch.long),\n",
        "            'mask': torch.tensor(mask, dtype=torch.long),\n",
        "            'token_type_ids': torch.tensor(token_type_ids, dtype=torch.long),\n",
        "            'targets': torch.tensor(self.targets[item], dtype=torch.float)\n",
        "        }"
      ],
      "execution_count": 0,
      "outputs": []
    },
    {
      "cell_type": "markdown",
      "metadata": {
        "id": "k4YaEP5SiVel",
        "colab_type": "text"
      },
      "source": [
        "# model.py"
      ]
    },
    {
      "cell_type": "code",
      "metadata": {
        "id": "KvRBD5VUiYhz",
        "colab_type": "code",
        "colab": {}
      },
      "source": [
        "import torch.nn as nn\n",
        "\n",
        "class JigsawModel(nn.Module):\n",
        "    def __init__(self, bert_path):\n",
        "        super(JigsawModel, self).__init__()\n",
        "        self.bert_path = bert_path\n",
        "        self.bert = transformers.BertModel.from_pretrained(self.bert_path)\n",
        "        self.bert_drop = nn.Dropout(0.5)\n",
        "        self.out = nn.Linear(768 * 2, 1)\n",
        "\n",
        "    def forward(\n",
        "            self,\n",
        "            ids,\n",
        "            mask,\n",
        "            token_type_ids\n",
        "    ):\n",
        "        out_1, out_2 = self.bert(\n",
        "            ids,\n",
        "            attention_mask=mask,\n",
        "            token_type_ids=token_type_ids)\n",
        "        \n",
        "        apool = torch.mean(out_1, 1)\n",
        "        mpool, _ = torch.max(out_1, 1)\n",
        "        cat = torch.cat((apool, mpool), 1)\n",
        "\n",
        "        bo = self.bert_drop(cat)\n",
        "        p2 = self.out(bo)\n",
        "        return p2"
      ],
      "execution_count": 0,
      "outputs": []
    },
    {
      "cell_type": "code",
      "metadata": {
        "id": "Ub1rPkOuUO1S",
        "colab_type": "code",
        "colab": {}
      },
      "source": [
        "MX = JigsawModel(config.BERT_PATH)"
      ],
      "execution_count": 0,
      "outputs": []
    },
    {
      "cell_type": "markdown",
      "metadata": {
        "id": "sx_K_NO1ia5c",
        "colab_type": "text"
      },
      "source": [
        "# engine.py"
      ]
    },
    {
      "cell_type": "code",
      "metadata": {
        "id": "78a75fXLieUg",
        "colab_type": "code",
        "colab": {}
      },
      "source": [
        "def loss_fn(outputs, targets):\n",
        "    return nn.BCEWithLogitsLoss()(outputs, targets.view(-1, 1))\n",
        "\n",
        "\n",
        "def train_fn(data_loader, model, optimizer, device, scheduler):\n",
        "    import torch_xla.core.xla_model as xm\n",
        "    model.train()\n",
        "\n",
        "    train_losses = []\n",
        "\n",
        "    for bi, d in enumerate(data_loader):\n",
        "        ids = d[\"ids\"]\n",
        "        token_type_ids = d[\"token_type_ids\"]\n",
        "        mask = d[\"mask\"]\n",
        "        targets = d[\"targets\"]\n",
        "\n",
        "        ids = ids.to(device, dtype=torch.long)\n",
        "        token_type_ids = token_type_ids.to(device, dtype=torch.long)\n",
        "        mask = mask.to(device, dtype=torch.long)\n",
        "        targets = targets.to(device, dtype=torch.float)\n",
        "\n",
        "        optimizer.zero_grad()\n",
        "        outputs = model(\n",
        "            ids=ids,\n",
        "            mask=mask,\n",
        "            token_type_ids=token_type_ids\n",
        "        )\n",
        "\n",
        "        loss = loss_fn(outputs, targets)\n",
        "\n",
        "        train_losses.append(loss)\n",
        "\n",
        "        loss.backward()\n",
        "\n",
        "        xm.optimizer_step(optimizer)\n",
        "\n",
        "        if scheduler is not None:\n",
        "            scheduler.step()\n",
        "\n",
        "        if bi % 100 == 0:\n",
        "            print(f'[xla:{xm.get_ordinal()}]: bi={bi}, train loss={loss}')\n",
        "\n",
        "    return train_losses\n",
        "\n",
        "\n",
        "def eval_fn(data_loader, model, device):\n",
        "    import torch_xla.core.xla_model as xm\n",
        "    model.eval()\n",
        "\n",
        "    val_losses = []\n",
        "\n",
        "    fin_targets = []\n",
        "    fin_outputs = []\n",
        "\n",
        "    with torch.no_grad():\n",
        "        for bi, d in enumerate(data_loader):\n",
        "            ids = d[\"ids\"]\n",
        "            token_type_ids = d[\"token_type_ids\"]\n",
        "            mask = d[\"mask\"]\n",
        "            targets = d[\"targets\"]\n",
        "\n",
        "            ids = ids.to(device, dtype=torch.long)\n",
        "            token_type_ids = token_type_ids.to(device, dtype=torch.long)\n",
        "            mask = mask.to(device, dtype=torch.long)\n",
        "            targets = targets.to(device, dtype=torch.float)\n",
        "\n",
        "            outputs = model(\n",
        "                ids=ids,\n",
        "                mask=mask,\n",
        "                token_type_ids=token_type_ids\n",
        "            )\n",
        "\n",
        "            loss = loss_fn(outputs, targets)\n",
        "           \n",
        "            val_losses.append(loss)\n",
        "\n",
        "            if bi % 100 == 0:\n",
        "                print(f'[xla:{xm.get_ordinal()}]: bi={bi}, valid loss={loss}')\n",
        "\n",
        "            fin_targets.extend(targets.cpu().detach().numpy().tolist())\n",
        "            fin_outputs.extend(outputs.cpu().detach().numpy().tolist())\n",
        "\n",
        "    return fin_outputs, fin_targets, val_losses"
      ],
      "execution_count": 0,
      "outputs": []
    },
    {
      "cell_type": "markdown",
      "metadata": {
        "id": "VHzeDeIziisj",
        "colab_type": "text"
      },
      "source": [
        "# train.py"
      ]
    },
    {
      "cell_type": "code",
      "metadata": {
        "id": "jd0MbPe8ilrH",
        "colab_type": "code",
        "colab": {}
      },
      "source": [
        "df_train1 = pd.read_csv(\n",
        "    config.TRAINING_FILE_1, \n",
        "    usecols=[\"comment_text\", \"toxic\"]\n",
        ").fillna(\"none\")\n",
        "\n",
        "df_train2 = pd.read_csv(\n",
        "    config.TRAINING_FILE_2, \n",
        "    usecols=[\"comment_text\", \"toxic\"]\n",
        ").fillna(\"none\")\n",
        "\n",
        "df_valid = pd.read_csv(config.VALIDATION_FILE)\n",
        "\n",
        "df_train = pd.concat([df_train1, df_train2], axis=0).reset_index(drop=True)\n",
        "df_train = df_train.sample(frac=1).reset_index(drop=True).head(200000)\n",
        "# df_train = df_train.sample(frac=1).reset_index(drop=True).head(1000000)\n",
        "\n",
        "\n",
        "df_train = df_train.reset_index(drop=True)\n",
        "df_valid = df_valid.reset_index(drop=True)\n",
        "\n",
        "\n",
        "train_targets = df_train.toxic.values\n",
        "valid_targets = df_valid.toxic.values\n"
      ],
      "execution_count": 0,
      "outputs": []
    },
    {
      "cell_type": "code",
      "metadata": {
        "id": "pBgQqbLfjPKd",
        "colab_type": "code",
        "colab": {}
      },
      "source": [
        "def epoch_time(start_time, end_time):\n",
        "    elapsed_time = end_time - start_time\n",
        "    elapsed_mins = int(elapsed_time / 60)\n",
        "    elapsed_secs = int(elapsed_time - (elapsed_mins * 60))\n",
        "    return elapsed_mins, elapsed_secs\n",
        "\n",
        "def run():\n",
        "    train_dataset = JigsawTraining(\n",
        "        comment_text=df_train.comment_text.values,\n",
        "        targets=train_targets,\n",
        "        config=config\n",
        "    )\n",
        "\n",
        "    train_sampler = torch.utils.data.distributed.DistributedSampler(\n",
        "          train_dataset,\n",
        "          num_replicas=xm.xrt_world_size(),\n",
        "          rank=xm.get_ordinal(),\n",
        "          shuffle=True)\n",
        "\n",
        "    train_data_loader = torch.utils.data.DataLoader(\n",
        "        train_dataset,\n",
        "        batch_size=config.TRAIN_BATCH_SIZE,\n",
        "        sampler=train_sampler,\n",
        "        drop_last=True,\n",
        "        num_workers=2\n",
        "    )\n",
        "\n",
        "    valid_dataset = JigsawTraining(\n",
        "        comment_text=df_valid.comment_text.values,\n",
        "        targets=valid_targets,\n",
        "        config=config\n",
        "    )\n",
        "\n",
        "    valid_sampler = torch.utils.data.distributed.DistributedSampler(\n",
        "          valid_dataset,\n",
        "          num_replicas=xm.xrt_world_size(),\n",
        "          rank=xm.get_ordinal(),\n",
        "          shuffle=False)\n",
        "\n",
        "    valid_data_loader = torch.utils.data.DataLoader(\n",
        "        valid_dataset,\n",
        "        batch_size=config.VALID_BATCH_SIZE,\n",
        "        sampler=valid_sampler,\n",
        "        drop_last=False,\n",
        "        num_workers=1\n",
        "    )\n",
        "\n",
        "    device = xm.xla_device()\n",
        "    model = MX.to(device)\n",
        "    \n",
        "    param_optimizer = list(model.named_parameters())\n",
        "    no_decay = [\"bias\", \"LayerNorm.bias\", \"LayerNorm.weight\"]\n",
        "    optimizer_parameters = [\n",
        "        {\n",
        "            'params': [\n",
        "                p for n, p in param_optimizer if not any(\n",
        "                    nd in n for nd in no_decay\n",
        "                )\n",
        "            ], \n",
        "            'weight_decay': 0.001\n",
        "        },\n",
        "        {\n",
        "            'params': [\n",
        "                p for n, p in param_optimizer if any(\n",
        "                    nd in n for nd in no_decay\n",
        "                )\n",
        "            ],\n",
        "            'weight_decay': 0.0\n",
        "        },\n",
        "    ]\n",
        "\n",
        "    num_train_steps = int(\n",
        "        len(df_train) / config.TRAIN_BATCH_SIZE / xm.xrt_world_size() * config.EPOCHS\n",
        "    )\n",
        "    optimizer = AdamW(\n",
        "        optimizer_parameters, \n",
        "        lr=config.LEARNING_RATE * xm.xrt_world_size()\n",
        "    )\n",
        "    scheduler = get_linear_schedule_with_warmup(\n",
        "        optimizer,\n",
        "        num_warmup_steps=0,\n",
        "        num_training_steps=num_train_steps\n",
        "    )\n",
        "\n",
        "    best_auc = 0\n",
        "    for epoch in range(config.EPOCHS):\n",
        "        start_time = time.time()\n",
        "\n",
        "        para_loader = pl.ParallelLoader(train_data_loader, [device])\n",
        "        train_losses = train_fn(\n",
        "            para_loader.per_device_loader(device), \n",
        "            model, \n",
        "            optimizer, \n",
        "            device, \n",
        "            scheduler\n",
        "        )\n",
        "        \n",
        "        para_loader = pl.ParallelLoader(valid_data_loader, [device])\n",
        "        outputs, targets, val_losses = eval_fn(\n",
        "            para_loader.per_device_loader(device), \n",
        "            model, \n",
        "            device\n",
        "        )\n",
        "\n",
        "        end_time = time.time()\n",
        "        epoch_mins, epoch_secs = epoch_time(start_time, end_time)\n",
        "\n",
        "        '''         \n",
        "        plt.plot(train_losses, label=\"Training loss\")\n",
        "        plt.plot(val_losses, label=\"Validation loss\")\n",
        "        plt.ylim(0, 2) \n",
        "        plt.xlabel(\"100 batch\")\n",
        "        plt.ylabel(\"loss\")\n",
        "        plt.legend()\n",
        "        plt.title(\"Losses\")\n",
        "        plt.show();\n",
        "        '''          \n",
        "\n",
        "        targets = np.array(targets) >= 0.5\n",
        "        auc = metrics.roc_auc_score(targets, outputs)\n",
        "\n",
        "        print(f'[xla:{xm.get_ordinal()}]: AUC={auc}')\n",
        "        if auc > best_auc:\n",
        "            xm.save(model.state_dict(), config.MODEL_PATH)\n",
        "            best_auc = auc\n",
        "        \n",
        "        print(f'Epoch: {epoch+1:02} | Epoch Time: {epoch_mins}m {epoch_secs}s')"
      ],
      "execution_count": 0,
      "outputs": []
    },
    {
      "cell_type": "markdown",
      "metadata": {
        "id": "oBt1_pijjSZ7",
        "colab_type": "text"
      },
      "source": [
        "Multi-processing wrapper"
      ]
    },
    {
      "cell_type": "code",
      "metadata": {
        "id": "nZBKeYI3jVBx",
        "colab_type": "code",
        "colab": {}
      },
      "source": [
        "def _mp_fn(rank, flags):\n",
        "    torch.set_default_tensor_type('torch.FloatTensor')\n",
        "    a = run()"
      ],
      "execution_count": 0,
      "outputs": []
    },
    {
      "cell_type": "markdown",
      "metadata": {
        "id": "rWWFJi58jWI9",
        "colab_type": "text"
      },
      "source": [
        "Process spawner for training on TPUs"
      ]
    },
    {
      "cell_type": "code",
      "metadata": {
        "id": "0sE_4NQIjaN_",
        "colab_type": "code",
        "colab": {
          "base_uri": "https://localhost:8080/",
          "height": 1000
        },
        "outputId": "cf4495ba-e29a-4c8b-d947-cf7a0f3887c9"
      },
      "source": [
        "FLAGS={}\n",
        "xmp.spawn(_mp_fn, args=(FLAGS,), nprocs=8, start_method='fork')"
      ],
      "execution_count": 13,
      "outputs": [
        {
          "output_type": "stream",
          "text": [
            "[xla:6]: bi=0, train loss=0.7345900535583496\n",
            "[xla:1]: bi=0, train loss=0.7578975558280945\n",
            "[xla:0]: bi=0, train loss=0.7518264651298523\n",
            "[xla:7]: bi=0, train loss=0.7491832971572876\n",
            "[xla:5]: bi=0, train loss=0.7428431510925293\n",
            "[xla:2]: bi=0, train loss=0.7457374334335327\n",
            "[xla:4]: bi=0, train loss=0.744277834892273\n",
            "[xla:3]: bi=0, train loss=0.7391464710235596\n",
            "[xla:0]: bi=100, train loss=0.3266236186027527\n",
            "[xla:1]: bi=100, train loss=0.3217772841453552\n",
            "[xla:7]: bi=100, train loss=0.23698799312114716\n",
            "[xla:4]: bi=100, train loss=0.21329490840435028\n",
            "[xla:5]: bi=100, train loss=0.2568577527999878\n",
            "[xla:6]: bi=100, train loss=0.2414819449186325\n",
            "[xla:3]: bi=100, train loss=0.30110397934913635\n",
            "[xla:2]: bi=100, train loss=0.2771300971508026\n",
            "[xla:7]: bi=200, train loss=0.20413126051425934\n",
            "[xla:2]: bi=200, train loss=0.23116010427474976\n",
            "[xla:0]: bi=200, train loss=0.25733858346939087\n",
            "[xla:1]: bi=200, train loss=0.31372931599617004\n",
            "[xla:3]: bi=200, train loss=0.25188344717025757\n",
            "[xla:4]: bi=200, train loss=0.2685929238796234\n",
            "[xla:6]: bi=200, train loss=0.24567078053951263\n",
            "[xla:5]: bi=200, train loss=0.27629297971725464\n",
            "[xla:3]: bi=300, train loss=0.24615003168582916\n",
            "[xla:1]: bi=300, train loss=0.24171513319015503\n",
            "[xla:0]: bi=300, train loss=0.1873190551996231\n",
            "[xla:4]: bi=300, train loss=0.2209683060646057\n",
            "[xla:5]: bi=300, train loss=0.20564723014831543\n",
            "[xla:7]: bi=300, train loss=0.26980090141296387\n",
            "[xla:2]: bi=300, train loss=0.26082196831703186\n",
            "[xla:6]: bi=300, train loss=0.29756343364715576\n",
            "[xla:5]: bi=0, valid loss=0.20165151357650757\n",
            "[xla:4]: bi=0, valid loss=0.03483577072620392\n",
            "[xla:7]: bi=0, valid loss=0.40152522921562195\n",
            "[xla:2]: bi=0, valid loss=0.4906931221485138\n",
            "[xla:3]: bi=0, valid loss=1.1925065517425537\n",
            "[xla:6]: bi=0, valid loss=0.040749453008174896\n",
            "[xla:1]: bi=0, valid loss=0.6599792242050171\n",
            "[xla:0]: bi=0, valid loss=0.40541303157806396\n",
            "[xla:6]: bi=100, valid loss=0.025287428870797157\n",
            "[xla:0]: bi=100, valid loss=0.30635666847229004\n",
            "[xla:4]: bi=100, valid loss=0.7429099082946777\n",
            "[xla:7]: bi=100, valid loss=0.13343340158462524\n",
            "[xla:2]: bi=100, valid loss=0.679461658000946\n",
            "[xla:1]: bi=100, valid loss=1.2823305130004883\n",
            "[xla:5]: bi=100, valid loss=0.6677636504173279\n",
            "[xla:3]: bi=100, valid loss=0.4923458695411682\n",
            "[xla:4]: AUC=0.814873452514458\n",
            "[xla:6]: AUC=0.816088840736728\n",
            "[xla:0]: AUC=0.8152177440290758\n",
            "[xla:7]: AUC=0.7811332930026215\n",
            "[xla:2]: AUC=0.8175115950796532\n",
            "[xla:1]: AUC=0.834355780879845\n",
            "[xla:5]: AUC=0.8124051181956191\n",
            "[xla:3]: AUC=0.7756585170013406\n",
            "Epoch: 01 | Epoch Time: 11m 48s\n",
            "Epoch: 01 | Epoch Time: 11m 42s\n",
            "Epoch: 01 | Epoch Time: 11m 50s\n",
            "Epoch: 01 | Epoch Time: 11m 44s\n",
            "Epoch: 01 | Epoch Time: 11m 44s\n",
            "Epoch: 01 | Epoch Time: 11m 42s\n",
            "Epoch: 01 | Epoch Time: 11m 44s\n",
            "Epoch: 01 | Epoch Time: 11m 55s\n"
          ],
          "name": "stdout"
        }
      ]
    }
  ]
}