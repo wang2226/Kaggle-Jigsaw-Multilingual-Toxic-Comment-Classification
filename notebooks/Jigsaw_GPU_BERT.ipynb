{
  "nbformat": 4,
  "nbformat_minor": 0,
  "metadata": {
    "colab": {
      "name": "Jigsaw_GPU_BERT.ipynb",
      "provenance": [],
      "collapsed_sections": [],
      "machine_shape": "hm"
    },
    "kernelspec": {
      "name": "python3",
      "display_name": "Python 3"
    },
    "accelerator": "GPU"
  },
  "cells": [
    {
      "cell_type": "markdown",
      "metadata": {
        "id": "atawUD096gjA",
        "colab_type": "text"
      },
      "source": [
        "# Set up environment"
      ]
    },
    {
      "cell_type": "code",
      "metadata": {
        "id": "fjHACYWJ6Wwv",
        "colab_type": "code",
        "colab": {
          "base_uri": "https://localhost:8080/",
          "height": 122
        },
        "outputId": "8a6f3eeb-b219-47a2-86ee-6942b33f2bd8"
      },
      "source": [
        "from google.colab import drive\n",
        "drive.mount('/content/gdrive')"
      ],
      "execution_count": 1,
      "outputs": [
        {
          "output_type": "stream",
          "text": [
            "Go to this URL in a browser: https://accounts.google.com/o/oauth2/auth?client_id=947318989803-6bn6qk8qdgf4n4g3pfee6491hc0brc4i.apps.googleusercontent.com&redirect_uri=urn%3aietf%3awg%3aoauth%3a2.0%3aoob&response_type=code&scope=email%20https%3a%2f%2fwww.googleapis.com%2fauth%2fdocs.test%20https%3a%2f%2fwww.googleapis.com%2fauth%2fdrive%20https%3a%2f%2fwww.googleapis.com%2fauth%2fdrive.photos.readonly%20https%3a%2f%2fwww.googleapis.com%2fauth%2fpeopleapi.readonly\n",
            "\n",
            "Enter your authorization code:\n",
            "··········\n",
            "Mounted at /content/gdrive\n"
          ],
          "name": "stdout"
        }
      ]
    },
    {
      "cell_type": "code",
      "metadata": {
        "id": "ZjQC8fOt6nYj",
        "colab_type": "code",
        "colab": {
          "base_uri": "https://localhost:8080/",
          "height": 615
        },
        "outputId": "2abdf829-eafb-49f5-82d8-c81d7833c91c"
      },
      "source": [
        "!pip install transformers"
      ],
      "execution_count": 2,
      "outputs": [
        {
          "output_type": "stream",
          "text": [
            "Collecting transformers\n",
            "\u001b[?25l  Downloading https://files.pythonhosted.org/packages/48/35/ad2c5b1b8f99feaaf9d7cdadaeef261f098c6e1a6a2935d4d07662a6b780/transformers-2.11.0-py3-none-any.whl (674kB)\n",
            "\u001b[K     |████████████████████████████████| 675kB 4.7MB/s \n",
            "\u001b[?25hRequirement already satisfied: tqdm>=4.27 in /usr/local/lib/python3.6/dist-packages (from transformers) (4.41.1)\n",
            "Requirement already satisfied: regex!=2019.12.17 in /usr/local/lib/python3.6/dist-packages (from transformers) (2019.12.20)\n",
            "Requirement already satisfied: dataclasses; python_version < \"3.7\" in /usr/local/lib/python3.6/dist-packages (from transformers) (0.7)\n",
            "Collecting sacremoses\n",
            "\u001b[?25l  Downloading https://files.pythonhosted.org/packages/7d/34/09d19aff26edcc8eb2a01bed8e98f13a1537005d31e95233fd48216eed10/sacremoses-0.0.43.tar.gz (883kB)\n",
            "\u001b[K     |████████████████████████████████| 890kB 10.3MB/s \n",
            "\u001b[?25hRequirement already satisfied: filelock in /usr/local/lib/python3.6/dist-packages (from transformers) (3.0.12)\n",
            "Requirement already satisfied: packaging in /usr/local/lib/python3.6/dist-packages (from transformers) (20.4)\n",
            "Collecting sentencepiece\n",
            "\u001b[?25l  Downloading https://files.pythonhosted.org/packages/d4/a4/d0a884c4300004a78cca907a6ff9a5e9fe4f090f5d95ab341c53d28cbc58/sentencepiece-0.1.91-cp36-cp36m-manylinux1_x86_64.whl (1.1MB)\n",
            "\u001b[K     |████████████████████████████████| 1.1MB 31.1MB/s \n",
            "\u001b[?25hRequirement already satisfied: numpy in /usr/local/lib/python3.6/dist-packages (from transformers) (1.18.5)\n",
            "Collecting tokenizers==0.7.0\n",
            "\u001b[?25l  Downloading https://files.pythonhosted.org/packages/14/e5/a26eb4716523808bb0a799fcfdceb6ebf77a18169d9591b2f46a9adb87d9/tokenizers-0.7.0-cp36-cp36m-manylinux1_x86_64.whl (3.8MB)\n",
            "\u001b[K     |████████████████████████████████| 3.8MB 40.9MB/s \n",
            "\u001b[?25hRequirement already satisfied: requests in /usr/local/lib/python3.6/dist-packages (from transformers) (2.23.0)\n",
            "Requirement already satisfied: six in /usr/local/lib/python3.6/dist-packages (from sacremoses->transformers) (1.12.0)\n",
            "Requirement already satisfied: click in /usr/local/lib/python3.6/dist-packages (from sacremoses->transformers) (7.1.2)\n",
            "Requirement already satisfied: joblib in /usr/local/lib/python3.6/dist-packages (from sacremoses->transformers) (0.15.1)\n",
            "Requirement already satisfied: pyparsing>=2.0.2 in /usr/local/lib/python3.6/dist-packages (from packaging->transformers) (2.4.7)\n",
            "Requirement already satisfied: idna<3,>=2.5 in /usr/local/lib/python3.6/dist-packages (from requests->transformers) (2.9)\n",
            "Requirement already satisfied: chardet<4,>=3.0.2 in /usr/local/lib/python3.6/dist-packages (from requests->transformers) (3.0.4)\n",
            "Requirement already satisfied: urllib3!=1.25.0,!=1.25.1,<1.26,>=1.21.1 in /usr/local/lib/python3.6/dist-packages (from requests->transformers) (1.24.3)\n",
            "Requirement already satisfied: certifi>=2017.4.17 in /usr/local/lib/python3.6/dist-packages (from requests->transformers) (2020.4.5.1)\n",
            "Building wheels for collected packages: sacremoses\n",
            "  Building wheel for sacremoses (setup.py) ... \u001b[?25l\u001b[?25hdone\n",
            "  Created wheel for sacremoses: filename=sacremoses-0.0.43-cp36-none-any.whl size=893260 sha256=e7b9c13ba3c8916950915a00b8668832cdc6d28ac0eb2f920bdfdf397e05e616\n",
            "  Stored in directory: /root/.cache/pip/wheels/29/3c/fd/7ce5c3f0666dab31a50123635e6fb5e19ceb42ce38d4e58f45\n",
            "Successfully built sacremoses\n",
            "Installing collected packages: sacremoses, sentencepiece, tokenizers, transformers\n",
            "Successfully installed sacremoses-0.0.43 sentencepiece-0.1.91 tokenizers-0.7.0 transformers-2.11.0\n"
          ],
          "name": "stdout"
        }
      ]
    },
    {
      "cell_type": "markdown",
      "metadata": {
        "id": "-6LzMSlp6p00",
        "colab_type": "text"
      },
      "source": [
        "# config.py"
      ]
    },
    {
      "cell_type": "code",
      "metadata": {
        "id": "YBMbtoDH6rdx",
        "colab_type": "code",
        "colab": {}
      },
      "source": [
        "import os\n",
        "\n",
        "import torch\n",
        "import transformers\n",
        "import warnings\n",
        "\n",
        "import pandas as pd\n",
        "import numpy as np\n",
        "import torch.nn as nn\n",
        "\n",
        "from sklearn import metrics\n",
        "from transformers import AdamW\n",
        "from transformers import get_linear_schedule_with_warmup\n",
        "\n",
        "import matplotlib\n",
        "import matplotlib.pyplot as plt\n",
        "\n",
        "import time\n",
        "\n",
        "warnings.filterwarnings(\"ignore\")\n",
        "\n",
        "class config:\n",
        "    MAX_LEN = 192\n",
        "    TRAIN_BATCH_SIZE = 64\n",
        "    VALID_BATCH_SIZE = 8\n",
        "    EPOCHS = 2\n",
        "    LEARNING_RATE = 1e-6\n",
        "    BERT_PATH = \"/content/gdrive/My Drive/bert-base-multilingual-uncased/\"\n",
        "    MODEL_PATH = \"/content/gdrive/My Drive/model.bin\"\n",
        "    TOKENIZER = transformers.BertTokenizer.from_pretrained(\n",
        "        BERT_PATH,\n",
        "        do_lower_case=True\n",
        "    )\n",
        "    JIGSAW_DATA_PATH = \"/content/gdrive/My Drive/\"\n",
        "    TRAINING_FILE_1 = os.path.join(\n",
        "        JIGSAW_DATA_PATH, \n",
        "        \"jigsaw-toxic-comment-train.csv\"\n",
        "    )\n",
        "    TRAINING_FILE_2 = os.path.join(\n",
        "        JIGSAW_DATA_PATH, \n",
        "        \"jigsaw-unintended-bias-train.csv\"\n",
        "    )\n",
        "    VALIDATION_FILE = os.path.join(\n",
        "        JIGSAW_DATA_PATH, \n",
        "        \"validation.csv\"\n",
        "    )"
      ],
      "execution_count": 0,
      "outputs": []
    },
    {
      "cell_type": "markdown",
      "metadata": {
        "id": "x92VBXBO7Em4",
        "colab_type": "text"
      },
      "source": [
        "# dataset.py"
      ]
    },
    {
      "cell_type": "code",
      "metadata": {
        "id": "sW2MyzJo7DGX",
        "colab_type": "code",
        "colab": {}
      },
      "source": [
        "class JigsawTraining:\n",
        "    def __init__(self, comment_text, targets, config):\n",
        "        self.comment_text = comment_text\n",
        "        self.tokenizer = config.TOKENIZER\n",
        "        self.max_length = config.MAX_LEN\n",
        "        self.targets = targets\n",
        "\n",
        "    def __len__(self):\n",
        "        return len(self.comment_text)\n",
        "\n",
        "    def __getitem__(self, item):\n",
        "        comment_text = str(self.comment_text[item])\n",
        "        comment_text = \" \".join(comment_text.split())\n",
        "\n",
        "        inputs = self.tokenizer.encode_plus(\n",
        "            comment_text,\n",
        "            None,\n",
        "            add_special_tokens=True,\n",
        "            max_length=self.max_length,\n",
        "        )\n",
        "        ids = inputs[\"input_ids\"]\n",
        "        token_type_ids = inputs[\"token_type_ids\"]\n",
        "        mask = inputs[\"attention_mask\"]\n",
        "        \n",
        "        padding_length = self.max_length - len(ids)\n",
        "        \n",
        "        ids = ids + ([0] * padding_length)\n",
        "        mask = mask + ([0] * padding_length)\n",
        "        token_type_ids = token_type_ids + ([0] * padding_length)\n",
        "        \n",
        "        return {\n",
        "            'ids': torch.tensor(ids, dtype=torch.long),\n",
        "            'mask': torch.tensor(mask, dtype=torch.long),\n",
        "            'token_type_ids': torch.tensor(token_type_ids, dtype=torch.long),\n",
        "            'targets': torch.tensor(self.targets[item], dtype=torch.float)\n",
        "        }"
      ],
      "execution_count": 0,
      "outputs": []
    },
    {
      "cell_type": "markdown",
      "metadata": {
        "id": "rXaMpTKm7HFb",
        "colab_type": "text"
      },
      "source": [
        "# model.py"
      ]
    },
    {
      "cell_type": "code",
      "metadata": {
        "id": "-ylSHg__7JY5",
        "colab_type": "code",
        "colab": {}
      },
      "source": [
        "class JigsawModel(nn.Module):\n",
        "    def __init__(self, bert_path):\n",
        "        super(JigsawModel, self).__init__()\n",
        "        self.bert_path = bert_path\n",
        "        self.bert = transformers.BertModel.from_pretrained(self.bert_path)\n",
        "        self.bert_drop = nn.Dropout(0.3)\n",
        "        self.out = nn.Linear(768 * 2, 1) #hidden size is 768\n",
        "\n",
        "    def forward(\n",
        "            self,\n",
        "            ids,\n",
        "            mask,\n",
        "            token_type_ids\n",
        "    ):\n",
        "        # out_1: last_hidden_state\n",
        "        # out_2: pooler_output\n",
        "        out_1, out_2 = self.bert(\n",
        "            ids,\n",
        "            attention_mask=mask,\n",
        "            token_type_ids=token_type_ids)\n",
        "        \n",
        "        apool = torch.mean(out_1, 1) # mean pooling\n",
        "        mpool, _ = torch.max(out_1, 1) # max pooling\n",
        "\n",
        "        cat = torch.cat((apool, mpool), 1) # concatenate\n",
        "   \n",
        "        bo = self.bert_drop(cat)\n",
        "        p2 = self.out(bo)\n",
        " \n",
        "        return p2"
      ],
      "execution_count": 0,
      "outputs": []
    },
    {
      "cell_type": "code",
      "metadata": {
        "id": "mhzZFVbW7LzE",
        "colab_type": "code",
        "colab": {}
      },
      "source": [
        "MX = JigsawModel(config.BERT_PATH)"
      ],
      "execution_count": 0,
      "outputs": []
    },
    {
      "cell_type": "markdown",
      "metadata": {
        "id": "iyHcFw2U7KwI",
        "colab_type": "text"
      },
      "source": [
        "# engine.py"
      ]
    },
    {
      "cell_type": "code",
      "metadata": {
        "id": "0JXAOT5m7OKx",
        "colab_type": "code",
        "colab": {}
      },
      "source": [
        "def loss_fn(outputs, targets):\n",
        "    return nn.BCEWithLogitsLoss()(outputs, targets.view(-1, 1))\n",
        "\n",
        "\n",
        "def train_fn(data_loader, model, optimizer, device):\n",
        "    train_losses = []\n",
        "    model.train()\n",
        "\n",
        "    for bi, d in enumerate(data_loader):\n",
        "        ids = d[\"ids\"]\n",
        "        token_type_ids = d[\"token_type_ids\"]\n",
        "        mask = d[\"mask\"]\n",
        "        targets = d[\"targets\"]\n",
        "\n",
        "        ids = ids.to(device, dtype=torch.long)\n",
        "        token_type_ids = token_type_ids.to(device, dtype=torch.long)\n",
        "        mask = mask.to(device, dtype=torch.long)\n",
        "        targets = targets.to(device, dtype=torch.float)\n",
        "\n",
        "        optimizer.zero_grad()\n",
        "        outputs = model(\n",
        "            ids=ids,\n",
        "            mask=mask,\n",
        "            token_type_ids=token_type_ids\n",
        "        )\n",
        "\n",
        "        loss = loss_fn(outputs, targets)\n",
        "        \n",
        "        if bi % 20 == 0:\n",
        "            train_losses.append(loss)\n",
        "        loss.backward()\n",
        "        optimizer.step()\n",
        "      \n",
        "        if bi % 100 == 0:\n",
        "            print(f'Batch Id={bi}, Train Loss={loss}')\n",
        "\n",
        "    return train_losses\n",
        "\n",
        "\n",
        "def eval_fn(data_loader, model, device):\n",
        "    val_losses = []\n",
        "    model.eval()\n",
        "    fin_targets = []\n",
        "    fin_outputs = []\n",
        "    with torch.no_grad():\n",
        "        for bi, d in enumerate(data_loader):\n",
        "            ids = d[\"ids\"]\n",
        "            token_type_ids = d[\"token_type_ids\"]\n",
        "            mask = d[\"mask\"]\n",
        "            targets = d[\"targets\"]\n",
        "\n",
        "            ids = ids.to(device, dtype=torch.long)\n",
        "            token_type_ids = token_type_ids.to(device, dtype=torch.long)\n",
        "            mask = mask.to(device, dtype=torch.long)\n",
        "            targets = targets.to(device, dtype=torch.float)\n",
        "\n",
        "            outputs = model(\n",
        "                ids=ids,\n",
        "                mask=mask,\n",
        "                token_type_ids=token_type_ids\n",
        "            )\n",
        "            \n",
        "            loss = loss_fn(outputs, targets)\n",
        "            if bi % 20 == 0:\n",
        "                val_losses.append(loss)\n",
        "\n",
        "            if bi % 100 == 0:\n",
        "                print(f'Batch Id={bi}, Validation Loss={loss}')\n",
        "\n",
        "            fin_targets.extend(targets.cpu().detach().numpy().tolist())\n",
        "            fin_outputs.extend(outputs.cpu().detach().numpy().tolist())\n",
        "            \n",
        "    return fin_outputs, fin_targets, val_losses"
      ],
      "execution_count": 0,
      "outputs": []
    },
    {
      "cell_type": "markdown",
      "metadata": {
        "id": "2RUGcQef7P3x",
        "colab_type": "text"
      },
      "source": [
        "# train.py"
      ]
    },
    {
      "cell_type": "code",
      "metadata": {
        "id": "hzg6tnpg7RqY",
        "colab_type": "code",
        "colab": {}
      },
      "source": [
        "df_train1 = pd.read_csv(\n",
        "    config.TRAINING_FILE_1, \n",
        "    usecols=[\"comment_text\", \"toxic\"]\n",
        ").fillna(\"none\")\n",
        "\n",
        "df_train2 = pd.read_csv(\n",
        "    config.TRAINING_FILE_2, \n",
        "    usecols=[\"comment_text\", \"toxic\"]\n",
        ").fillna(\"none\")\n",
        "\n",
        "df_valid = pd.read_csv(config.VALIDATION_FILE)\n",
        "\n",
        "df_train = pd.concat([df_train1, df_train2], axis=0).reset_index(drop=True)\n",
        "df_train = df_train.sample(frac=1).reset_index(drop=True).head(200000)\n",
        "\n",
        "df_train = df_train[:50000].reset_index(drop=True)\n",
        "df_valid = df_valid[:50000].reset_index(drop=True)\n",
        "\n",
        "# df_train = df_train.reset_index(drop=True)\n",
        "# df_valid = df_valid.reset_index(drop=True)\n",
        "\n",
        "train_targets = df_train[:50000].toxic.values\n",
        "valid_targets = df_valid[:50000].toxic.values\n",
        "\n",
        "# train_targets = df_train.toxic.values\n",
        "# valid_targets = df_valid.toxic.values"
      ],
      "execution_count": 0,
      "outputs": []
    },
    {
      "cell_type": "code",
      "metadata": {
        "id": "05DQ5cYJ7ZgD",
        "colab_type": "code",
        "colab": {}
      },
      "source": [
        "def epoch_time(start_time, end_time):\n",
        "    elapsed_time = end_time - start_time\n",
        "    elapsed_mins = int(elapsed_time / 60)\n",
        "    elapsed_secs = int(elapsed_time - (elapsed_mins * 60))\n",
        "    return elapsed_mins, elapsed_secs\n",
        "\n",
        "\n",
        "def run():\n",
        "    train_dataset = JigsawTraining(\n",
        "        comment_text=df_train.comment_text.values,\n",
        "        targets=train_targets,\n",
        "        config=config\n",
        "    )\n",
        "\n",
        "    train_data_loader = torch.utils.data.DataLoader(\n",
        "        train_dataset,\n",
        "        batch_size=config.TRAIN_BATCH_SIZE,\n",
        "        drop_last=True,\n",
        "        num_workers=2\n",
        "    )\n",
        "\n",
        "    valid_dataset = JigsawTraining(\n",
        "        comment_text=df_valid.comment_text.values,\n",
        "        targets=valid_targets,\n",
        "        config=config\n",
        "    )\n",
        "\n",
        "    valid_data_loader = torch.utils.data.DataLoader(\n",
        "        valid_dataset,\n",
        "        batch_size=config.VALID_BATCH_SIZE,\n",
        "        drop_last=False,\n",
        "        num_workers=1\n",
        "    )\n",
        "\n",
        "    device = torch.device(\"cuda\")\n",
        "    model = MX.to(device)\n",
        "    \n",
        "    param_optimizer = list(model.named_parameters())\n",
        "    no_decay = [\"bias\", \"LayerNorm.bias\", \"LayerNorm.weight\"]\n",
        "    optimizer_parameters = [\n",
        "        {\n",
        "            'params': [\n",
        "                p for n, p in param_optimizer if not any(\n",
        "                    nd in n for nd in no_decay\n",
        "                )\n",
        "            ], \n",
        "            'weight_decay': 0.001\n",
        "        },\n",
        "        {\n",
        "            'params': [\n",
        "                p for n, p in param_optimizer if any(\n",
        "                    nd in n for nd in no_decay\n",
        "                )\n",
        "            ],\n",
        "            'weight_decay': 0.0\n",
        "        },\n",
        "    ]\n",
        "\n",
        "    num_train_steps = int(\n",
        "        len(df_train) / config.TRAIN_BATCH_SIZE / config.EPOCHS\n",
        "    )\n",
        "    optimizer = AdamW(\n",
        "        optimizer_parameters, \n",
        "        lr=config.LEARNING_RATE\n",
        "    )\n",
        "    scheduler = get_linear_schedule_with_warmup(\n",
        "        optimizer,\n",
        "        num_warmup_steps=0,\n",
        "        num_training_steps=num_train_steps\n",
        "    )\n",
        "\n",
        "    best_auc = 0\n",
        "    for epoch in range(config.EPOCHS):\n",
        "        start_time = time.time()\n",
        "        print(f'Epoch={epoch + 1}')\n",
        "\n",
        "        train_losses = train_fn(\n",
        "            train_data_loader, \n",
        "            model, \n",
        "            optimizer, \n",
        "            device\n",
        "        )\n",
        "        \n",
        "        outputs, targets, val_losses = eval_fn(\n",
        "            valid_data_loader, \n",
        "            model, \n",
        "            device\n",
        "        )\n",
        "\n",
        "        end_time = time.time()\n",
        "        epoch_mins, epoch_secs = epoch_time(start_time, end_time)\n",
        "\n",
        "\n",
        "        \n",
        "        plt.plot(train_losses, label=\"Training loss\")\n",
        "        plt.plot(val_losses, label=\"Validation loss\")\n",
        "        plt.xlabel(\"100 batch\")\n",
        "        plt.ylabel(\"loss\")\n",
        "        plt.legend()\n",
        "        plt.title(\"Losses\")\n",
        "        plt.show();\n",
        "        \n",
        "\n",
        "        targets = np.array(targets) >= 0.5\n",
        "        auc = metrics.roc_auc_score(targets, outputs)\n",
        "        print(f'AUC={auc}')\n",
        "\n",
        "        if auc > best_auc:\n",
        "            torch.save(model.state_dict(), config.MODEL_PATH)\n",
        "            best_auc = auc\n",
        "\n",
        "        print(f'Epoch: {epoch+1:02} | Epoch Time: {epoch_mins}m {epoch_secs}s')"
      ],
      "execution_count": 0,
      "outputs": []
    },
    {
      "cell_type": "code",
      "metadata": {
        "id": "k8tDtKsU7wSJ",
        "colab_type": "code",
        "colab": {
          "base_uri": "https://localhost:8080/",
          "height": 1000
        },
        "outputId": "d86195d7-dd92-4c91-ff20-d3b7faa9bbb2"
      },
      "source": [
        "run()"
      ],
      "execution_count": 10,
      "outputs": [
        {
          "output_type": "stream",
          "text": [
            "Epoch=1\n",
            "Batch Id=0, Train Loss=0.47757744789123535\n",
            "Batch Id=100, Train Loss=0.3051365613937378\n",
            "Batch Id=200, Train Loss=0.3745741546154022\n",
            "Batch Id=300, Train Loss=0.22656774520874023\n",
            "Batch Id=400, Train Loss=0.3270556330680847\n",
            "Batch Id=500, Train Loss=0.32968413829803467\n",
            "Batch Id=600, Train Loss=0.3510909974575043\n",
            "Batch Id=700, Train Loss=0.2779768705368042\n",
            "Batch Id=0, Validation Loss=0.3887746334075928\n",
            "Batch Id=100, Validation Loss=0.610784649848938\n",
            "Batch Id=200, Validation Loss=0.36668866872787476\n",
            "Batch Id=300, Validation Loss=0.4395841062068939\n",
            "Batch Id=400, Validation Loss=0.5850622653961182\n",
            "Batch Id=500, Validation Loss=0.3529907763004303\n",
            "Batch Id=600, Validation Loss=0.7631456851959229\n",
            "Batch Id=700, Validation Loss=0.1000378429889679\n",
            "Batch Id=800, Validation Loss=0.0880100205540657\n",
            "Batch Id=900, Validation Loss=0.07494214922189713\n"
          ],
          "name": "stdout"
        },
        {
          "output_type": "display_data",
          "data": {
            "image/png": "[encoded data removed]",
            "text/plain": [
              "<Figure size 432x288 with 1 Axes>"
            ]
          },
          "metadata": {
            "tags": [],
            "needs_background": "light"
          }
        },
        {
          "output_type": "stream",
          "text": [
            "AUC=0.7929193836990067\n",
            "Epoch: 01 | Epoch Time: 14m 59s\n",
            "Epoch=2\n",
            "Batch Id=0, Train Loss=0.27112334966659546\n",
            "Batch Id=100, Train Loss=0.2325092852115631\n",
            "Batch Id=200, Train Loss=0.2810927927494049\n",
            "Batch Id=300, Train Loss=0.2081403136253357\n",
            "Batch Id=400, Train Loss=0.2416774034500122\n",
            "Batch Id=500, Train Loss=0.2765394449234009\n",
            "Batch Id=600, Train Loss=0.32531118392944336\n",
            "Batch Id=700, Train Loss=0.2479275017976761\n",
            "Batch Id=0, Validation Loss=0.4525129199028015\n",
            "Batch Id=100, Validation Loss=0.5760940313339233\n",
            "Batch Id=200, Validation Loss=0.30924832820892334\n",
            "Batch Id=300, Validation Loss=0.5208142399787903\n",
            "Batch Id=400, Validation Loss=0.6918395757675171\n",
            "Batch Id=500, Validation Loss=0.33127111196517944\n",
            "Batch Id=600, Validation Loss=0.85387122631073\n",
            "Batch Id=700, Validation Loss=0.0794166624546051\n",
            "Batch Id=800, Validation Loss=0.053547222167253494\n",
            "Batch Id=900, Validation Loss=0.046203792095184326\n"
          ],
          "name": "stdout"
        },
        {
          "output_type": "display_data",
          "data": {
            "image/png": "[encoded data removed]",
            "text/plain": [
              "<Figure size 432x288 with 1 Axes>"
            ]
          },
          "metadata": {
            "tags": [],
            "needs_background": "light"
          }
        },
        {
          "output_type": "stream",
          "text": [
            "AUC=0.8082992878673247\n",
            "Epoch: 02 | Epoch Time: 14m 58s\n"
          ],
          "name": "stdout"
        }
      ]
    }
  ]
}